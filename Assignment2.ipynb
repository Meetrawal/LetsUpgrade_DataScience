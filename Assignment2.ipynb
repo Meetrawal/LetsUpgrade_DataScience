{
  "nbformat": 4,
  "nbformat_minor": 0,
  "metadata": {
    "colab": {
      "name": "lets_upgrade_assignment2_data_science.ipynb",
      "provenance": []
    },
    "kernelspec": {
      "name": "python3",
      "display_name": "Python 3"
    }
  },
  "cells": [
    {
      "cell_type": "markdown",
      "metadata": {
        "id": "dx3sH8JJJfNp"
      },
      "source": [
        "*QUESTION 1*"
      ]
    },
    {
      "cell_type": "code",
      "metadata": {
        "id": "yW0GgIzGIETi",
        "outputId": "e9179bbc-4078-4ae5-ef22-70b923a4d23c",
        "colab": {
          "base_uri": "https://localhost:8080/"
        }
      },
      "source": [
        "l =[]\n",
        "\n",
        "for i in range(0, 10):\n",
        "    temp = int(input()) \n",
        "    if temp%2==0:\n",
        "        l.append(temp) \n",
        "\n",
        "print(l)"
      ],
      "execution_count": 1,
      "outputs": [
        {
          "output_type": "stream",
          "text": [
            "1\n",
            "2\n",
            "54\n",
            "85\n",
            "79\n",
            "95\n",
            "36\n",
            "12\n",
            "49\n",
            "7\n",
            "[2, 54, 36, 12]\n"
          ],
          "name": "stdout"
        }
      ]
    },
    {
      "cell_type": "markdown",
      "metadata": {
        "id": "KXcaGJxqOfl6"
      },
      "source": [
        "*QUESTION 2*"
      ]
    },
    {
      "cell_type": "markdown",
      "metadata": {
        "id": "lrPlQl-ZOkok"
      },
      "source": [
        "*   *LIST COMPREHENSIONS: List comprehension is an elegant way to define and create lists based on existing lists.*\n",
        "\n"
      ]
    },
    {
      "cell_type": "code",
      "metadata": {
        "id": "BytRu_d1OjRH",
        "outputId": "c8749ffd-14b5-49ce-c870-465dcdc432c7",
        "colab": {
          "base_uri": "https://localhost:8080/"
        }
      },
      "source": [
        "alphbt = [ letter for letter in 'DATA SCIENCE' ]\n",
        "print(alphbt)"
      ],
      "execution_count": 2,
      "outputs": [
        {
          "output_type": "stream",
          "text": [
            "['D', 'A', 'T', 'A', ' ', 'S', 'C', 'I', 'E', 'N', 'C', 'E']\n"
          ],
          "name": "stdout"
        }
      ]
    },
    {
      "cell_type": "markdown",
      "metadata": {
        "id": "Yyh5adXULOuJ"
      },
      "source": [
        "*QUESTION 3*"
      ]
    },
    {
      "cell_type": "code",
      "metadata": {
        "id": "7Ej9fqd4LRGT",
        "outputId": "59938b15-4679-44fd-c887-0df3d88ce425",
        "colab": {
          "base_uri": "https://localhost:8080/"
        }
      },
      "source": [
        "n=int(input())\n",
        "d={}\n",
        "\n",
        "for i in range (1,n+1):\n",
        "    temp={i:(i*i)}\n",
        "    d.update(temp)\n",
        "\n",
        "print(d)"
      ],
      "execution_count": 3,
      "outputs": [
        {
          "output_type": "stream",
          "text": [
            "6\n",
            "{1: 1, 2: 4, 3: 9, 4: 16, 5: 25, 6: 36}\n"
          ],
          "name": "stdout"
        }
      ]
    },
    {
      "cell_type": "markdown",
      "metadata": {
        "id": "-XfMQP7UL4xY"
      },
      "source": [
        "*QUESTION 4*"
      ]
    },
    {
      "cell_type": "code",
      "metadata": {
        "id": "oCKVikKOL4H4",
        "outputId": "877682d8-c58d-405c-b417-7e505ac1c93b",
        "colab": {
          "base_uri": "https://localhost:8080/"
        }
      },
      "source": [
        "n=int(input())\n",
        "d=[]\n",
        "\n",
        "vertical,horizontal=0,0\n",
        "\n",
        "for i in range(n):\n",
        "    d.append(input())\n",
        "\n",
        "for i in range(n):\n",
        "    if d[i][0].upper()==\"U\":\n",
        "        vertical+=int(d[i][len(d[i])-1])\n",
        "    elif d[i][0].upper()==\"D\":\n",
        "        vertical-=int(d[i][len(d[i])-1])\n",
        "    elif d[i][0].upper()==\"L\":\n",
        "        horizontal-=int(d[i][len(d[i])-1])\n",
        "    elif d[i][0].upper()==\"R\":\n",
        "        horizontal+=int(d[i][len(d[i])-1])\n",
        "\n",
        "displacment=round((vertical**2+horizontal**2)**0.5)\n",
        "print(displacment)"
      ],
      "execution_count": 5,
      "outputs": [
        {
          "output_type": "stream",
          "text": [
            "4\n",
            "up5\n",
            "dwn3\n",
            "r3\n",
            "l2\n",
            "2\n"
          ],
          "name": "stdout"
        }
      ]
    }
  ]
}