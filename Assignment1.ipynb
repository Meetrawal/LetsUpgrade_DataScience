{
  "nbformat": 4,
  "nbformat_minor": 0,
  "metadata": {
    "colab": {
      "name": "lets_upgrade_assignment1_data_science.ipynb",
      "provenance": []
    },
    "kernelspec": {
      "name": "python3",
      "display_name": "Python 3"
    }
  },
  "cells": [
    {
      "cell_type": "markdown",
      "metadata": {
        "id": "VjLZaa0aIzHL"
      },
      "source": [
        "*QUESTION 2*"
      ]
    },
    {
      "cell_type": "code",
      "metadata": {
        "id": "enkQpndmFBKV",
        "outputId": "f5dbc504-e47f-4131-a10d-99cf4edb9c93",
        "colab": {
          "base_uri": "https://localhost:8080/"
        }
      },
      "source": [
        "a=\"lets upgrade\"\n",
        "print(a.upper()) "
      ],
      "execution_count": 1,
      "outputs": [
        {
          "output_type": "stream",
          "text": [
            "LETS UPGRADE\n"
          ],
          "name": "stdout"
        }
      ]
    },
    {
      "cell_type": "markdown",
      "metadata": {
        "id": "aVrWfBQxJDiK"
      },
      "source": [
        "*QUESTION 3*"
      ]
    },
    {
      "cell_type": "code",
      "metadata": {
        "id": "Hathwf8CGRkm",
        "outputId": "ee4b9dd4-7358-443b-b551-e41efcdde9d3",
        "colab": {
          "base_uri": "https://localhost:8080/"
        }
      },
      "source": [
        "cost_price = int(input())\n",
        "selling_price= int(input())\n",
        "\n",
        "if (cost_price == selling_price):\n",
        "  print(\"Niether\")\n",
        "elif (cost_price > selling_price):\n",
        "  print(\"Loss\")\n",
        "else:\n",
        "  print(\"Profit\")"
      ],
      "execution_count": 2,
      "outputs": [
        {
          "output_type": "stream",
          "text": [
            "20\n",
            "30\n",
            "Profit\n"
          ],
          "name": "stdout"
        }
      ]
    },
    {
      "cell_type": "markdown",
      "metadata": {
        "id": "kBR0R231JK2o"
      },
      "source": [
        "*QUESTION 4*"
      ]
    },
    {
      "cell_type": "code",
      "metadata": {
        "id": "bt8qJ7mKHPSr",
        "outputId": "3dc84815-8cab-4f74-c454-77625c5b203a",
        "colab": {
          "base_uri": "https://localhost:8080/"
        }
      },
      "source": [
        "Euros=float(input())\n",
        "rupees=Euros * 80\n",
        "print(rupees)"
      ],
      "execution_count": 3,
      "outputs": [
        {
          "output_type": "stream",
          "text": [
            "20\n",
            "1600.0\n"
          ],
          "name": "stdout"
        }
      ]
    }
  ]
}