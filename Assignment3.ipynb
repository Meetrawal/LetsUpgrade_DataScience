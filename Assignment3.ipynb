{
  "nbformat": 4,
  "nbformat_minor": 0,
  "metadata": {
    "colab": {
      "name": "lets_upgrade_assignment3_data_scienceipynb",
      "provenance": []
    },
    "kernelspec": {
      "name": "python3",
      "display_name": "Python 3"
    }
  },
  "cells": [
    {
      "cell_type": "code",
      "metadata": {
        "id": "IG0cax_FQ8HL"
      },
      "source": [
        "import numpy as np"
      ],
      "execution_count": 1,
      "outputs": []
    },
    {
      "cell_type": "markdown",
      "metadata": {
        "id": "5kVPL1yHQzrg"
      },
      "source": [
        "*QUESTION 1*"
      ]
    },
    {
      "cell_type": "code",
      "metadata": {
        "id": "AwaNNOPIQfQZ",
        "outputId": "ea8dd1d6-08c1-4308-b842-108515be2b52",
        "colab": {
          "base_uri": "https://localhost:8080/"
        }
      },
      "source": [
        "npArray=np.array(range (2,51,3))\n",
        "print(npArray)\n",
        "print(type(npArray))"
      ],
      "execution_count": 2,
      "outputs": [
        {
          "output_type": "stream",
          "text": [
            "[ 2  5  8 11 14 17 20 23 26 29 32 35 38 41 44 47 50]\n",
            "<class 'numpy.ndarray'>\n"
          ],
          "name": "stdout"
        }
      ]
    },
    {
      "cell_type": "markdown",
      "metadata": {
        "id": "ONfOBw6uRWAy"
      },
      "source": [
        "*QUESTION 2*"
      ]
    },
    {
      "cell_type": "code",
      "metadata": {
        "id": "o-kOBfacRav8",
        "outputId": "bbf8399c-35aa-4fd6-f702-d204badd6027",
        "colab": {
          "base_uri": "https://localhost:8080/"
        }
      },
      "source": [
        "lst1=list(input().split(','))\n",
        "lst1=[int(i) for i in lst1]\n",
        "lst2=list(input().split(','))\n",
        "lst2=[int(i) for i in lst2]\n",
        "ar1=np.array(lst1)\n",
        "ar2=np.array(lst2)\n",
        "print(np.concatenate((ar1,ar2)))\n",
        "print(np.sort(np.concatenate((ar1,ar2))))\n"
      ],
      "execution_count": 3,
      "outputs": [
        {
          "output_type": "stream",
          "text": [
            "1,5,23,42,19\n",
            "5,79,99,68,39\n",
            "[ 1  5 23 42 19  5 79 99 68 39]\n",
            "[ 1  5  5 19 23 39 42 68 79 99]\n"
          ],
          "name": "stdout"
        }
      ]
    },
    {
      "cell_type": "markdown",
      "metadata": {
        "id": "JDcZ8P-6Uac7"
      },
      "source": [
        "*QUESTION 3*"
      ]
    },
    {
      "cell_type": "code",
      "metadata": {
        "id": "cyAy3U9YS80k",
        "outputId": "f086389c-08b4-4a8e-87e0-59c05785115f",
        "colab": {
          "base_uri": "https://localhost:8080/"
        }
      },
      "source": [
        "a=np.random.rand(3,5)\n",
        "#print(a)\n",
        "print(a.shape)\n",
        "print(a.size)"
      ],
      "execution_count": 4,
      "outputs": [
        {
          "output_type": "stream",
          "text": [
            "(3, 5)\n",
            "15\n"
          ],
          "name": "stdout"
        }
      ]
    },
    {
      "cell_type": "markdown",
      "metadata": {
        "id": "qHmYwOEkV1Au"
      },
      "source": [
        "*QUESTION 4*"
      ]
    },
    {
      "cell_type": "code",
      "metadata": {
        "id": "dv7pAQ2gV4HH",
        "outputId": "a1adc694-45ed-433f-f1de-d4d9747d2feb",
        "colab": {
          "base_uri": "https://localhost:8080/"
        }
      },
      "source": [
        "ar=np.array([2,1,3])\n",
        "print(ar.shape)\n",
        "ar1=ar[np.newaxis].shape\n",
        "ar2=np.expand_dims(ar,axis=1).shape\n",
        "print(ar1)\n",
        "print(ar2)"
      ],
      "execution_count": 5,
      "outputs": [
        {
          "output_type": "stream",
          "text": [
            "(3,)\n",
            "(1, 3)\n",
            "(3, 1)\n"
          ],
          "name": "stdout"
        }
      ]
    },
    {
      "cell_type": "markdown",
      "metadata": {
        "id": "4R7hEUpwWIKr"
      },
      "source": [
        "*QUESTION 5*"
      ]
    },
    {
      "cell_type": "code",
      "metadata": {
        "id": "bXoCRLUJVXMO",
        "outputId": "108b3b13-a6a8-4ea7-f03f-30214388bd3f",
        "colab": {
          "base_uri": "https://localhost:8080/"
        }
      },
      "source": [
        "ar1=np.random.rand(3,3)\n",
        "ar2=np.random.rand(3,3)\n",
        "print(np.vstack((ar1,ar2)),\"\\n\")\n",
        "print(np.hstack((ar1,ar2)))"
      ],
      "execution_count": 6,
      "outputs": [
        {
          "output_type": "stream",
          "text": [
            "[[0.40736242 0.47187397 0.53871857]\n",
            " [0.56110529 0.86786569 0.62573697]\n",
            " [0.87777981 0.14507464 0.14526383]\n",
            " [0.20655178 0.50088629 0.28062325]\n",
            " [0.24464942 0.87941689 0.84868259]\n",
            " [0.65714831 0.02796338 0.16593869]] \n",
            "\n",
            "[[0.40736242 0.47187397 0.53871857 0.20655178 0.50088629 0.28062325]\n",
            " [0.56110529 0.86786569 0.62573697 0.24464942 0.87941689 0.84868259]\n",
            " [0.87777981 0.14507464 0.14526383 0.65714831 0.02796338 0.16593869]]\n"
          ],
          "name": "stdout"
        }
      ]
    },
    {
      "cell_type": "markdown",
      "metadata": {
        "id": "ICM-nuZdWY91"
      },
      "source": [
        "*QUESTION 6*"
      ]
    },
    {
      "cell_type": "code",
      "metadata": {
        "id": "Alf7txjGWXRc",
        "outputId": "21860c05-e6e9-444b-fae0-09c88d599cbc",
        "colab": {
          "base_uri": "https://localhost:8080/"
        }
      },
      "source": [
        "ar=np.array([1,2,2,5,4,6,8,9,12,1,1,2,5,6,8,9,8,8,5,2,5,12,45,4,5,121,2,1,6,44,4,64,6,6,6,1,31,61])\n",
        "unique,occur=np.unique(ar,return_counts=True)\n",
        "\n",
        "for i,j in zip(unique,occur):\n",
        "  print(i ,\"=>\",j)"
      ],
      "execution_count": 7,
      "outputs": [
        {
          "output_type": "stream",
          "text": [
            "1 => 5\n",
            "2 => 5\n",
            "4 => 3\n",
            "5 => 5\n",
            "6 => 6\n",
            "8 => 4\n",
            "9 => 2\n",
            "12 => 2\n",
            "31 => 1\n",
            "44 => 1\n",
            "45 => 1\n",
            "61 => 1\n",
            "64 => 1\n",
            "121 => 1\n"
          ],
          "name": "stdout"
        }
      ]
    }
  ]
}